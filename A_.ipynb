{
  "nbformat": 4,
  "nbformat_minor": 0,
  "metadata": {
    "colab": {
      "provenance": [],
      "authorship_tag": "ABX9TyOQ4g2QrEHvOgRRGNKyzCPz",
      "include_colab_link": true
    },
    "kernelspec": {
      "name": "python3",
      "display_name": "Python 3"
    },
    "language_info": {
      "name": "python"
    }
  },
  "cells": [
    {
      "cell_type": "markdown",
      "metadata": {
        "id": "view-in-github",
        "colab_type": "text"
      },
      "source": [
        "<a href=\"https://colab.research.google.com/github/Zahraengeanear/A-star/blob/main/A_.ipynb\" target=\"_parent\"><img src=\"https://colab.research.google.com/assets/colab-badge.svg\" alt=\"Open In Colab\"/></a>"
      ]
    },
    {
      "cell_type": "markdown",
      "source": [
        "افزودن کتابخانه"
      ],
      "metadata": {
        "id": "ZiDeFZNcWjFH"
      }
    },
    {
      "cell_type": "code",
      "source": [
        "import heapq"
      ],
      "metadata": {
        "id": "PpmsfeT-WX1C"
      },
      "execution_count": 1,
      "outputs": []
    },
    {
      "cell_type": "markdown",
      "source": [
        "تعریف گراف و تابع هیوریستیک"
      ],
      "metadata": {
        "id": "3-xaX9OSWunm"
      }
    },
    {
      "cell_type": "code",
      "source": [
        "graph = {\n",
        "    \"Shiraz\": {\"Abadeh\": 250, \"Marvdasht\": 60},\n",
        "    \"Abadeh\": {\"Isfahan\": 200, \"Shiraz\": 250},\n",
        "    \"Marvdasht\": {\"Shiraz\": 60, \"Yazd\": 350},\n",
        "    \"Isfahan\": {\"Abadeh\": 200, \"Qom\": 280},\n",
        "    \"Yazd\": {\"Marvdasht\": 350, \"Qom\": 400},\n",
        "    \"Qom\": {\"Isfahan\": 280, \"Tehran\": 140},\n",
        "    \"Tehran\": {\"Qom\": 140},\n",
        "}\n",
        "\n",
        "\n",
        "# فاصله‌های هوایی (تابع هیوریستیک)\n",
        "heuristic = {\n",
        "    \"Shiraz\": 950,\n",
        "    \"Abadeh\": 700,\n",
        "    \"Marvdasht\": 900,\n",
        "    \"Isfahan\": 400,\n",
        "    \"Yazd\": 600,\n",
        "    \"Qom\": 150,\n",
        "    \"Tehran\": 0,\n",
        "}"
      ],
      "metadata": {
        "id": "sHaIQb7SWcjl"
      },
      "execution_count": 2,
      "outputs": []
    },
    {
      "cell_type": "code",
      "execution_count": 3,
      "metadata": {
        "id": "nbQnLaxRSJeF"
      },
      "outputs": [],
      "source": [
        "def a_star_search(start, goal):\n",
        "\n",
        "    priority_queue = []\n",
        "    heapq.heappush(priority_queue, (0, start))\n",
        "\n",
        "    # ردیابی مسیر و هزینه‌ها\n",
        "    came_from = {}\n",
        "    cost_so_far = {start: 0}\n",
        "\n",
        "    while priority_queue:\n",
        "        current_cost, current_city = heapq.heappop(priority_queue)\n",
        "\n",
        "        # اگر به مقصد رسیدیم\n",
        "        if current_city == goal:\n",
        "            break\n",
        "\n",
        "        # بررسی همسایه‌ها\n",
        "        for neighbor, distance in graph[current_city].items():\n",
        "            new_cost = cost_so_far[current_city] + distance\n",
        "            if neighbor not in cost_so_far or new_cost < cost_so_far[neighbor]:\n",
        "                cost_so_far[neighbor] = new_cost\n",
        "                priority = new_cost + heuristic[neighbor]\n",
        "                heapq.heappush(priority_queue, (priority, neighbor))\n",
        "                came_from[neighbor] = current_city\n",
        "\n",
        "    #  مسیر\n",
        "    path = []\n",
        "    current = goal\n",
        "    while current != start:\n",
        "        path.append(current)\n",
        "        current = came_from[current]\n",
        "    path.append(start)\n",
        "    path.reverse()\n",
        "\n",
        "    return path, cost_so_far[goal]\n"
      ]
    },
    {
      "cell_type": "markdown",
      "source": [
        "**اجرا**"
      ],
      "metadata": {
        "id": "bOJCRy7uWmqJ"
      }
    },
    {
      "cell_type": "code",
      "source": [
        "start_city = \"Shiraz\"\n",
        "goal_city = \"Tehran\"\n",
        "path, total_cost = a_star_search(start_city, goal_city)\n",
        "\n",
        "print(\"مسیر بهینه:\", \" -> \".join(path))\n",
        "print(\"هزینه کل:\", total_cost)"
      ],
      "metadata": {
        "id": "yOGqJ14bTs2l",
        "colab": {
          "base_uri": "https://localhost:8080/"
        },
        "outputId": "c8ff8a25-0ea5-4928-b103-202278b2f5f9"
      },
      "execution_count": 4,
      "outputs": [
        {
          "output_type": "stream",
          "name": "stdout",
          "text": [
            "مسیر بهینه: Shiraz -> Abadeh -> Isfahan -> Qom -> Tehran\n",
            "هزینه کل: 870\n"
          ]
        }
      ]
    }
  ]
}